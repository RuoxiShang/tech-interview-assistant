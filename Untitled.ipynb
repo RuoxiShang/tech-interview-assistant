{
 "cells": [
  {
   "cell_type": "code",
   "execution_count": 1,
   "id": "755cc46c",
   "metadata": {},
   "outputs": [
    {
     "data": {
      "application/vnd.jupyter.widget-view+json": {
       "model_id": "0857075d2dde4d2489b46e040ad14765",
       "version_major": 2,
       "version_minor": 0
      },
      "text/plain": [
       "Textarea(value='', description='API Key:', placeholder='Enter your OpenAI API key here...')"
      ]
     },
     "metadata": {},
     "output_type": "display_data"
    },
    {
     "data": {
      "application/vnd.jupyter.widget-view+json": {
       "model_id": "5f31a7beada54e6d98c1a96b576171c7",
       "version_major": 2,
       "version_minor": 0
      },
      "text/plain": [
       "Button(description='Set API Key', layout=Layout(width='auto'), style=ButtonStyle(), tooltip='Click me')"
      ]
     },
     "metadata": {},
     "output_type": "display_data"
    },
    {
     "name": "stdout",
     "output_type": "stream",
     "text": [
      "Interview session is now started. Here is the coding problem: ...\n"
     ]
    },
    {
     "data": {
      "application/vnd.jupyter.widget-view+json": {
       "model_id": "91df39943a694797880524153f268c0d",
       "version_major": 2,
       "version_minor": 0
      },
      "text/plain": [
       "Textarea(value='', description='Your question:', placeholder='Type your question here...')"
      ]
     },
     "metadata": {},
     "output_type": "display_data"
    },
    {
     "data": {
      "application/vnd.jupyter.widget-view+json": {
       "model_id": "cb4f637affef433fae44202ef6eef2fe",
       "version_major": 2,
       "version_minor": 0
      },
      "text/plain": [
       "Button(description='Get probing question from tutor', layout=Layout(width='auto'), style=ButtonStyle(), toolti…"
      ]
     },
     "metadata": {},
     "output_type": "display_data"
    },
    {
     "data": {
      "application/vnd.jupyter.widget-view+json": {
       "model_id": "988112170c8a46c8a37a4f77456fe84b",
       "version_major": 2,
       "version_minor": 0
      },
      "text/plain": [
       "Button(description='Get answer from interviewer', layout=Layout(width='auto'), style=ButtonStyle(), tooltip='C…"
      ]
     },
     "metadata": {},
     "output_type": "display_data"
    }
   ],
   "source": [
    "from coding_tutor import start_session\n",
    "\n",
    "start_session()"
   ]
  },
  {
   "cell_type": "code",
   "execution_count": null,
   "id": "156c9756",
   "metadata": {},
   "outputs": [],
   "source": []
  }
 ],
 "metadata": {
  "kernelspec": {
   "display_name": "Python 3 (ipykernel)",
   "language": "python",
   "name": "python3"
  },
  "language_info": {
   "codemirror_mode": {
    "name": "ipython",
    "version": 3
   },
   "file_extension": ".py",
   "mimetype": "text/x-python",
   "name": "python",
   "nbconvert_exporter": "python",
   "pygments_lexer": "ipython3",
   "version": "3.9.13"
  }
 },
 "nbformat": 4,
 "nbformat_minor": 5
}
